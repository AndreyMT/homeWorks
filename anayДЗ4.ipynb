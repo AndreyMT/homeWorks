{
 "cells": [
  {
   "cell_type": "code",
   "execution_count": 1,
   "metadata": {
    "collapsed": true
   },
   "outputs": [],
   "source": [
    "text = \"\"\"123\n",
    "4567\n",
    " 8910\n",
    "\"\"\"\n",
    "with open('task_1.1_source', 'w') as f:\n",
    "    f.write(text)"
   ]
  },
  {
   "cell_type": "code",
   "execution_count": 2,
   "metadata": {
    "collapsed": false
   },
   "outputs": [
    {
     "name": "stdout",
     "output_type": "stream",
     "text": [
      "123\n",
      "4567\n",
      " 8910\n"
     ]
    }
   ],
   "source": [
    "!type task_1.1_source"
   ]
  },
  {
   "cell_type": "markdown",
   "metadata": {},
   "source": [
    "# Базовый уровень\n",
    "## Задание 1.1\n",
    "\n",
    "Напишите функцию, копирующую файл\n",
    "\n",
    "source_path должен существовать, а отсутствующие промежуточные папки из target_path должны быть созданы\n",
    "\n",
    "Подсказка: можно прочитать исходный файл и записать в новый.\n",
    "\n",
    "Опциональное усложнение: попробуйте написать так, чтобы функция работала и с большими файлами (нужно, чтобы содежимое файла не считывалось полностью в память)\n"
   ]
  },
  {
   "cell_type": "code",
   "execution_count": 4,
   "metadata": {
    "collapsed": false
   },
   "outputs": [
    {
     "name": "stdout",
     "output_type": "stream",
     "text": [
      "123\n",
      "4567\n",
      " 8910\n"
     ]
    }
   ],
   "source": [
    "import os\n",
    "import re\n",
    "def copy_file(source_path, target_path):\n",
    "    if os.path.isfile(source_path): # проверяем наличие файла source_path\n",
    "        target_dirs = target_path\n",
    "        target_path_splitted = re.split('[\"\\\",\"/\"]', target_path) # разобъем на составляющие target_path, все время путаю слеши\n",
    "        if len(target_path_splitted) > 1: # если target_path состоит не только из имени, то\n",
    "            target_dirs = target_path_splitted[0] # создадим накопительную переменную из промежуточных папок\n",
    "            if not os.path.exists(target_dirs): # проверяем существование первой папки из target_path в текущей папке\n",
    "                os.makedirs(target_dirs) # создадиим ее, если ее нет.\n",
    "            for index in range(1, len(target_path_splitted)-1): # далее пройдем глубже по всем папкам target_path\n",
    "                target_dirs = os.path.join(target_dirs, target_path_splitted[index]) # с корректным системным разделителем папок\n",
    "                if not os.path.exists(target_dirs): # и если какая-либо из них не существует - \n",
    "                    os.makedirs(target_dirs) # создаем ее\n",
    "            # на этот момент все папки из target_path существуют\n",
    "            target_dirs = os.path.join(target_dirs,target_path_splitted[-1]) # добавим имя файла в конец этой переменной\n",
    "        with open(source_path, 'r') as f1, open(target_dirs, 'w') as f2: # откроем файлы для чтения/записи\n",
    "            for line in f1: # данная конструкция аналогична методу xreadlines,        \n",
    "                f2.write(line) # который считывает файл строка за строкой, а не весь сразу, экономя тем самым память\n",
    "    else: return \"source file don't exists\"\n",
    "    \n",
    "copy_file('task_1.1_source', 'task_1.1_target')\n",
    "!type task_1.1_target"
   ]
  },
  {
   "cell_type": "markdown",
   "metadata": {
    "collapsed": true
   },
   "source": [
    "# Задание 1.2\n",
    "В файле source_path находится англо-латинский словарь, то есть список слов на английском языке и их переводы на латинский язык (переводов может быть несколько). Необходимо создать из него латино-английский словарь по пути target_path. Например, из словаря\n",
    "\n",
    "apple - malum, pomum, popula\n",
    "\n",
    "fruit - baca, bacca, popum\n",
    "\n",
    "punishment - malum, multa\n",
    "нужно сделать словарь.\n",
    "\n",
    "baca - fruit\n",
    "\n",
    "bacca - fruit\n",
    "\n",
    "malum - apple, punishment\n",
    "\n",
    "multa - punishment\n",
    "\n",
    "pomum - apple\n",
    "\n",
    "popula - apple\n",
    "\n",
    "popum - fruit\n",
    "Не забудьте, что слова нужно расположить в алфавитном порядке.\n",
    "Будет полезна функция strip у строки для удаления пробелов"
   ]
  },
  {
   "cell_type": "code",
   "execution_count": 92,
   "metadata": {
    "collapsed": false
   },
   "outputs": [
    {
     "name": "stdout",
     "output_type": "stream",
     "text": [
      "baca - fruit\n",
      "bacca - fruit\n",
      "malum - apple, punishment\n",
      "multa - punishment\n",
      "pomum - apple\n",
      "popula - apple\n",
      "popum - fruit\n"
     ]
    }
   ],
   "source": [
    "import os, re\n",
    "def eng_lat_2_lat_eng(source_path, target_path):\n",
    "    with open(source_path, 'r') as f:\n",
    "        dict1 = f.read() # Сперва весь файл поместим в память\n",
    "    dict1 = dict1.split('\\n') # далее разобьем его на строки\n",
    "    my_dict = dict() # тут будет храниться финальный словарь\n",
    "    my_keys = [] # а тут его уникальные ключи, для удобства их сортировки\n",
    "    for line in dict1:\n",
    "        line_splitted = line.split('-') # отделим ключи от значений\n",
    "        keys = line_splitted[1].split(',') # разделим значения друг от друга, они станут ключами в итоговом словаре\n",
    "        value = line_splitted[0] # сюда будем помещать ключи предыдущего словаря, они станут значениями.\n",
    "        for i in keys:\n",
    "            val_temp = '' # эта переменная нужна для пополнения словаря, без нее происходит затирание предыдущих значений\n",
    "            key = i.strip(' ') # уберем лишние пробелы...\n",
    "            if not key in my_dict: my_keys.append(key) # если ключа еще нет в нашем словаре - он уникален, добавим в список\n",
    "            if key in my_dict: \n",
    "                val_temp = my_dict.get(key) + \", \" # для уже существующих ключей добавим значение к имеющемуся. \n",
    "            my_dict[key] = val_temp + value.strip(' ') # наполним словарь\n",
    "    my_keys = sorted(my_keys) # отсортируем ключи для вывода в файл\n",
    "    with open(target_path, 'w') as f:\n",
    "        for keys in my_keys:\n",
    "            line = keys + \" - \" + my_dict[keys] + \"\\n\"\n",
    "            f.write(line) # формируя каждую строку, запишем файл. \n",
    "    return\n",
    "\n",
    "eng_lat_2_lat_eng('task_1.2_source', 'task_1.2_target')\n",
    "!type task_1.2_target"
   ]
  },
  {
   "cell_type": "markdown",
   "metadata": {},
   "source": [
    "    \n",
    "# Задание 1.3\n",
    "\n",
    "Напишите функцию, вычисляющую длину русского слова, независимо от его кодировки\n",
    "\n",
    "Если параметр encoding задан, то нужно декодировать текст при помощи этой кодировки. А если он не задан, то кодировку надо определить самостоятельно.\n",
    "Если кодировка не задана, то точное решение здесь написать не получится. Но можно воспользоваться функцией my_decoder из лекции\n"
   ]
  },
  {
   "cell_type": "code",
   "execution_count": 122,
   "metadata": {
    "collapsed": false
   },
   "outputs": [],
   "source": [
    "import chardet\n",
    "def my_len(word, encoding=None):\n",
    "    if encoding:\n",
    "        return len(word.decode(encoding)) \n",
    "    if type(word) is unicode:\n",
    "        return len(word)\n",
    "    else: return len(unicode(word, encoding=chardet.detect(word)['encoding']))\n"
   ]
  },
  {
   "cell_type": "code",
   "execution_count": 124,
   "metadata": {
    "collapsed": false
   },
   "outputs": [
    {
     "data": {
      "text/plain": [
       "True"
      ]
     },
     "execution_count": 124,
     "metadata": {},
     "output_type": "execute_result"
    }
   ],
   "source": [
    "my_len('текст') == 5"
   ]
  },
  {
   "cell_type": "code",
   "execution_count": 123,
   "metadata": {
    "collapsed": false
   },
   "outputs": [
    {
     "data": {
      "text/plain": [
       "True"
      ]
     },
     "execution_count": 123,
     "metadata": {},
     "output_type": "execute_result"
    }
   ],
   "source": [
    "my_len(u'текст') == 5"
   ]
  },
  {
   "cell_type": "code",
   "execution_count": 125,
   "metadata": {
    "collapsed": false
   },
   "outputs": [
    {
     "data": {
      "text/plain": [
       "True"
      ]
     },
     "execution_count": 125,
     "metadata": {},
     "output_type": "execute_result"
    }
   ],
   "source": [
    "my_len(u'ааааа'.encode('utf_16'), encoding='utf_16') == 5"
   ]
  },
  {
   "cell_type": "code",
   "execution_count": 126,
   "metadata": {
    "collapsed": false
   },
   "outputs": [
    {
     "data": {
      "text/plain": [
       "True"
      ]
     },
     "execution_count": 126,
     "metadata": {},
     "output_type": "execute_result"
    }
   ],
   "source": [
    "my_len(u'текст'.encode('windows-1251')) == 5"
   ]
  },
  {
   "cell_type": "markdown",
   "metadata": {},
   "source": [
    "\n",
    "## Продвинутый уровень\n",
    "# Задание 2.1\n",
    "\n",
    "Напишите функцию, которая выписывает список файлов в данной директории и сортирует их в соответствии с их размером. Функция должна получать путь к директории в качестве аргумента и печатать на экран имена всех файлов в ней и их размеры, причем первыми должны идти файлы с наибольшими размерами, а в случае одинакового размер файлы сортируются по алфавиту.\n",
    "Указание. Изучите функции listdir и stat из модуля os и функции isfile и join из модуля os.path."
   ]
  },
  {
   "cell_type": "code",
   "execution_count": null,
   "metadata": {
    "collapsed": true
   },
   "outputs": [],
   "source": [
    "def get_dir_content_info(dir_path):\n",
    "    # Допишите код\n",
    "    return\n"
   ]
  }
 ],
 "metadata": {
  "kernelspec": {
   "display_name": "Python 2",
   "language": "python",
   "name": "python2"
  },
  "language_info": {
   "codemirror_mode": {
    "name": "ipython",
    "version": 2
   },
   "file_extension": ".py",
   "mimetype": "text/x-python",
   "name": "python",
   "nbconvert_exporter": "python",
   "pygments_lexer": "ipython2",
   "version": "2.7.13"
  }
 },
 "nbformat": 4,
 "nbformat_minor": 2
}
